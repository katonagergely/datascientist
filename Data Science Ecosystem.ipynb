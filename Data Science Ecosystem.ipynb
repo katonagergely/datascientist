{
 "cells": [
  {
   "cell_type": "markdown",
   "id": "9ce75000-62eb-46a9-a03c-1bda3d5532e1",
   "metadata": {},
   "source": [
    "# Data Science Tools and Ecosystem"
   ]
  },
  {
   "cell_type": "markdown",
   "id": "e181ad29-544a-4986-8a5e-db4a83c0651f",
   "metadata": {},
   "source": [
    "In this notebook, Data Science Tools and Ecosystem are summarized."
   ]
  },
  {
   "cell_type": "markdown",
   "id": "6c16668d-ddf2-475d-bb94-d9beedbe1935",
   "metadata": {},
   "source": [
    "# Objectives:\n",
    "\n",
    "- List popular languages for Data Science.\n",
    "- Summarize commonly used libraries in Data Science.\n",
    "- Introduce Data Science tools and environments.\n"
   ]
  },
  {
   "cell_type": "markdown",
   "id": "ae68a573-4477-4de0-8c9f-c7c5431b9815",
   "metadata": {},
   "source": [
    "Some of the popular languages that Data Scientists use are:\n",
    "\n",
    "1. Python\n",
    "2. R\n",
    "3. SQL"
   ]
  },
  {
   "cell_type": "markdown",
   "id": "c2f1a8ba-d455-47df-bf99-6cda03568f84",
   "metadata": {},
   "source": [
    "Some of the commonly used libraries used by Data Scientists include:\n",
    "\n",
    "1. NumPy\n",
    "2. Pandas\n",
    "3. Matplotlib"
   ]
  },
  {
   "cell_type": "markdown",
   "id": "878761f8-49f5-4204-9215-2120bbfb81f5",
   "metadata": {},
   "source": [
    "| Data Science Tools |\n",
    "|--------------------|\n",
    "| Jupyter Notebooks  |\n",
    "| RStudio            |\n",
    "| VS Code            |"
   ]
  },
  {
   "cell_type": "markdown",
   "id": "0286086a-494f-4038-b03a-a4bdd88cdb45",
   "metadata": {},
   "source": [
    "### Below are a few examples of evaluating arithmetic expressions in Python.\n"
   ]
  },
  {
   "cell_type": "code",
   "execution_count": 2,
   "id": "dea3c5f8-1b4b-4589-943b-4002144567e6",
   "metadata": {},
   "outputs": [
    {
     "name": "stdout",
     "output_type": "stream",
     "text": [
      "17\n"
     ]
    }
   ],
   "source": [
    "result = (3 * 4) + 5\n",
    "print(result)"
   ]
  },
  {
   "cell_type": "code",
   "execution_count": 3,
   "id": "dfadb6f6-a6f7-488a-8d60-c4cb6663c104",
   "metadata": {},
   "outputs": [
    {
     "name": "stdout",
     "output_type": "stream",
     "text": [
      "3.3333333333333335\n"
     ]
    }
   ],
   "source": [
    "minutes = 200\n",
    "hours = minutes / 60\n",
    "print(hours)"
   ]
  },
  {
   "cell_type": "markdown",
   "id": "9e6d1242-e1b3-46ab-ae4e-628149afcb74",
   "metadata": {},
   "source": [
    "## Author\n",
    "\n",
    "John Doe\n"
   ]
  },
  {
   "cell_type": "code",
   "execution_count": null,
   "id": "c8cbf151-bf10-471e-acf6-5aa6a3d1ebd8",
   "metadata": {},
   "outputs": [],
   "source": []
  }
 ],
 "metadata": {
  "kernelspec": {
   "display_name": "Python 3 (ipykernel)",
   "language": "python",
   "name": "python3"
  },
  "language_info": {
   "codemirror_mode": {
    "name": "ipython",
    "version": 3
   },
   "file_extension": ".py",
   "mimetype": "text/x-python",
   "name": "python",
   "nbconvert_exporter": "python",
   "pygments_lexer": "ipython3",
   "version": "3.11.5"
  }
 },
 "nbformat": 4,
 "nbformat_minor": 5
}
